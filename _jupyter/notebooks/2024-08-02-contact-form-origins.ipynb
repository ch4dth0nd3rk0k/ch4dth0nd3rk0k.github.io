{
 "cells": [
  {
   "cell_type": "raw",
   "id": "15d53ddc-b349-4346-bc3f-677573df9788",
   "metadata": {},
   "source": [
    "---\n",
    "layout: article\n",
    "title: Origins of the Contact Form\n",
    "custom_css: article.css\n",
    "include_mathjax: false\n",
    "---"
   ]
  },
  {
   "cell_type": "markdown",
   "id": "ca3ea868-bef1-4693-892d-933313548cfe",
   "metadata": {},
   "source": [
    "## It's All Business\n",
    "The story begins with my closest friend, who for many years had been struggling with *filtering* potential customers for her online business. For anyone who has ever dealt with running a business (on or off the *internet*), there is always a problem with finding the *right customers* (the people who are **serious** about buying your service/product). This was the exact problem she had: having her time/energy wasted by *potential customers* that are never going to buy.\n",
    "\n",
    "After watching her struggle with this, for years I might add, and after knowing enough *general programming* and *computer science* I realized I could build a simple solution: a contact form completely written in `HTML`, `CSS`, and `Javascript`, but leveraging a rigorous *unit testing* framework (in this case `pytest` in the language `Python`)."
   ]
  },
  {
   "cell_type": "markdown",
   "id": "df1a39cd-141f-40f1-8772-908b1409ed20",
   "metadata": {},
   "source": [
    "## Filtering Customers\n",
    "So I did indeed build the software, and although the actual HTML/CSS/Javascript was not that bad, the *tests* were BRUTAL ... because I wrote the tests to **PROVE** that the *contact form software* worked as expected. This level of *rigor* and *standard of quality* was intense ... but necessary and when complete it was **complete** (for all time I might add) at least until more features are added.\n",
    "\n",
    "We immediately put the form into production and over the course of the following months we found that, surprising both of us, it worked ... she no longer got *false customers* (i.e. *potential customers* that are not interested in buying). When she **did** get a customer it was a *real customer* (i.e. extremely high likelihood of purchasing *something*)."
   ]
  },
  {
   "cell_type": "markdown",
   "id": "e6ca24e1-b95c-4334-b557-55606e7f0fc9",
   "metadata": {
    "jp-MarkdownHeadingCollapsed": true
   },
   "source": [
    "## Evolving / Generalizing\n",
    "From that point forward we both understood the power of *filtering* the *right people* and that this *matching problem* would continue to occur in every domain. Upon reflection I became interested in attempting to use the form to help *filter* the matches from online dating platforms (e.g. `OkCupid`). Why not right? It only makes sense that, if you are serious about finding the *right people* for your business, you would also be serious about finding the *right people* for your life **in general**."
   ]
  },
  {
   "cell_type": "markdown",
   "id": "18648148-142d-47b8-9207-bb3cbe5a7db7",
   "metadata": {},
   "source": [
    "## Moral\n",
    "The point of all this, if it's not already obvious, is that this form really represents the level of *seriousness* by which I do the things I do. It represents the kind of person I am: my values, my work ethic, my interests, etc ... the form is not intended to offend or disrespect, it is only meant to make it *EASY* for the *right people* to contact me, and *HARD* for the *wrong people*. Now what is the difference between these two groups? That's a good question, and one we will explore in a future post."
   ]
  }
 ],
 "metadata": {
  "kernelspec": {
   "display_name": "Python 3 (ipykernel)",
   "language": "python",
   "name": "python3"
  },
  "language_info": {
   "codemirror_mode": {
    "name": "ipython",
    "version": 3
   },
   "file_extension": ".py",
   "mimetype": "text/x-python",
   "name": "python",
   "nbconvert_exporter": "python",
   "pygments_lexer": "ipython3",
   "version": "3.11.8"
  }
 },
 "nbformat": 4,
 "nbformat_minor": 5
}
