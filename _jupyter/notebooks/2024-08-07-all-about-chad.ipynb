{
 "cells": [
  {
   "cell_type": "raw",
   "id": "6d7d35da-833e-4e6c-a4d2-e70e9f5fb350",
   "metadata": {},
   "source": [
    "---\n",
    "layout: article\n",
    "title: All About Chad\n",
    "custom_css: article.css\n",
    "include_mathjax: false\n",
    "---"
   ]
  },
  {
   "cell_type": "markdown",
   "id": "c98be294-2237-4111-8ce1-5b703a022c24",
   "metadata": {},
   "source": [
    "## Seriously Serious\n",
    "I was thinking about what is the one word that would describe me most accurately, if I could only *choose* one word. What would that word be? Would it be *aggressive*, *savage*, or how about *erudite*, *intelligent*, or *innovative*? Maybe *intense* (I've been called intense quite a bit)? While I think all those words are relevant, there really is only one word that captures my *personality* and general *\"vibe\"*: `serious`. Everything about me can be understood through that single word:"
   ]
  },
  {
   "cell_type": "code",
   "execution_count": null,
   "id": "54d5ee81-6abe-4e1a-bf56-ee477db81090",
   "metadata": {
    "editable": true,
    "execution": {
     "iopub.execute_input": "2024-09-09T15:13:54.974113Z",
     "iopub.status.busy": "2024-09-09T15:13:54.973752Z",
     "iopub.status.idle": "2024-09-09T15:13:54.985672Z",
     "shell.execute_reply": "2024-09-09T15:13:54.984436Z"
    },
    "slideshow": {
     "slide_type": ""
    },
    "tags": [
     "remove_input"
    ]
   },
   "outputs": [],
   "source": [
    "def print_string_with_line_limit(s: str, limit: int) -> None:\n",
    "    \"\"\"Print a string line by line, ensuring that no line exceeds the character limit.\"\"\"\n",
    "    words = s.split()\n",
    "    current_line = \"\"\n",
    "    \n",
    "    for word in words:\n",
    "        # check if adding the next word exceeds the limit\n",
    "        if len(current_line) + len(word) + 1 > limit:\n",
    "            print(current_line)\n",
    "            current_line = word\n",
    "        else:\n",
    "            if current_line:\n",
    "                current_line += \" \" + word\n",
    "            else:\n",
    "                current_line = word\n",
    "\n",
    "    # print any remaining words in the current line\n",
    "    if current_line:\n",
    "        print(current_line)"
   ]
  },
  {
   "cell_type": "code",
   "execution_count": null,
   "id": "1ce506e6-508a-466f-b9e2-f41cc5a7fd1f",
   "metadata": {
    "editable": true,
    "execution": {
     "iopub.execute_input": "2024-09-09T15:13:54.990914Z",
     "iopub.status.busy": "2024-09-09T15:13:54.990526Z",
     "iopub.status.idle": "2024-09-09T15:13:54.996809Z",
     "shell.execute_reply": "2024-09-09T15:13:54.995809Z"
    },
    "slideshow": {
     "slide_type": ""
    },
    "tags": [
     "remove_input"
    ]
   },
   "outputs": [],
   "source": [
    "# store serious def text\n",
    "serious_def = \"\"\"\n",
    "Seriousness (noun; adjective: serious) is an attitude of gravity, solemnity, persistence,\n",
    "and earnestness toward something considered to be of importance.\n",
    "\"\"\"\n",
    "\n",
    "# print out with 100 char limit\n",
    "print_string_with_line_limit(serious_def, 80)"
   ]
  },
  {
   "cell_type": "markdown",
   "id": "ca704a93-fffa-4ce3-814b-ea1804c78bad",
   "metadata": {},
   "source": [
    "This is easily the most important aspect of my personality. It's the *\"make or break\"* feature that I believe **dominates** who I can relate to (i.e. have any type of relationship be it platonic or romantic, personal or professional)."
   ]
  },
  {
   "cell_type": "markdown",
   "id": "4503c4a7-31dc-495d-b965-ff1b3a7f2450",
   "metadata": {},
   "source": [
    "## My Match\n",
    "Here is what I originally had in my *about me* section from my `OkCupid` dating profile:"
   ]
  },
  {
   "cell_type": "code",
   "execution_count": null,
   "id": "c1504210-d9a1-40b3-8359-b86e5f11ca32",
   "metadata": {
    "editable": true,
    "execution": {
     "iopub.execute_input": "2024-09-09T15:13:55.002691Z",
     "iopub.status.busy": "2024-09-09T15:13:55.002229Z",
     "iopub.status.idle": "2024-09-09T15:13:55.010445Z",
     "shell.execute_reply": "2024-09-09T15:13:55.009279Z"
    },
    "slideshow": {
     "slide_type": ""
    },
    "tags": [
     "remove_input"
    ]
   },
   "outputs": [],
   "source": [
    "# store original about me text\n",
    "original_about_me = \"\"\"\n",
    "So you could say that I am very serious, and that's still probably an understatement.\n",
    "\n",
    "I don't have time to \"f*ck around\" ... I mean literally I don't hookup or sleep around. It's not EASY to get my time let alone my \"personal space\" ...\n",
    "\n",
    "I'm always working on the problems that I need to work on (and as anyone who is remotely responsible knows there are always PLENTY of problems that need attention).\n",
    "\n",
    "You could describe me as \"erudite\" or \"academic\" in my style, but savage and dominant in my personality. Like a warrior poet, or if a primal instinctual beast was also a scholar and extremely analytical.\n",
    "\n",
    "I'm only truly interested in solving problems, and being dominant. If I'm not self-reflecting on my life and where I've been, I'm thinking about where I'm going and how to get there.\n",
    "\n",
    "I don't relate at all to people who are not responsible or not SERIOUS with their time. So if you have the time to just talk to random people EVERYDAY, like some revolving door of perpetual online socializing/hooking up, or you're constantly engaging in social media, or ANYTHING similar to that ... we're not on the same page.\n",
    "\n",
    "You really need to be serious about your time, and serious about your life to match with me.\n",
    "\n",
    "If you have a million friends, we're not going to match.\n",
    "\"\"\"\n",
    "\n",
    "# print with max line length of 100\n",
    "print_string_with_line_limit(original_about_me, 80)"
   ]
  },
  {
   "cell_type": "markdown",
   "id": "9944dead-cf85-49ae-8b03-815231167639",
   "metadata": {},
   "source": [
    "I have to laugh when I read what I originally wrote, not because it's asinine or ridiculous, but rather because it's so accurate. But I think I can *distill* or *concentrate* the essence of what I was trying to communicate to a single sentence:\n",
    "```\n",
    "be serious about your life.\n",
    "```\n",
    "\n",
    "What I find with most people, is that simply they aren't very responsible for their life. This leads them to being very **not serious** about the choices they make, and that *fundamentally* does not match with me."
   ]
  },
  {
   "cell_type": "markdown",
   "id": "3fa2cd5a-315e-4b66-a676-64f170153110",
   "metadata": {},
   "source": [
    "## Moral\n",
    "I could have talked about how I'm tall, dark, and handsome, with a dominant, aggressive, and masculine personality, but that is nowhere near as relevant or **accurate** as the word *serious*. Do I spend a lot of time solving problems? Yes. Am I intelligent? More than above average. What's my favorite food? Any kind of food. I mean these aspects of my personality are not **dominant** traits ... anyone could have these traits, and still not be *like me* (i.e. match me). But *seriousness* is the most *dominant trait* I possess and that should always be what attracts you to me ... otherwise, you're going to have a bad bad time :)"
   ]
  }
 ],
 "metadata": {
  "kernelspec": {
   "display_name": "Python 3 (ipykernel)",
   "language": "python",
   "name": "python3"
  },
  "language_info": {
   "codemirror_mode": {
    "name": "ipython",
    "version": 3
   },
   "file_extension": ".py",
   "mimetype": "text/x-python",
   "name": "python",
   "nbconvert_exporter": "python",
   "pygments_lexer": "ipython3",
   "version": "3.11.8"
  }
 },
 "nbformat": 4,
 "nbformat_minor": 5
}
